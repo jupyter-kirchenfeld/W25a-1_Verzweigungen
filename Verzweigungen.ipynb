{
 "cells": [
  {
   "cell_type": "markdown",
   "id": "0b9f7f7e",
   "metadata": {},
   "source": [
    "Before you turn this problem in, make sure everything runs as expected. First, **restart the kernel** (in the menubar, select Kernel$\\rightarrow$Restart) and then **run all cells** (in the menubar, select Cell$\\rightarrow$Run All).\n",
    "\n",
    "Make sure you fill in any place that says `YOUR CODE HERE` or \"YOUR ANSWER HERE\", as well as your name and collaborators below:"
   ]
  },
  {
   "cell_type": "code",
   "execution_count": null,
   "id": "3ffbc88d",
   "metadata": {},
   "outputs": [],
   "source": [
    "NAME = \"\"\n",
    "COLLABORATORS = \"\""
   ]
  },
  {
   "cell_type": "markdown",
   "id": "8cca92cd",
   "metadata": {},
   "source": [
    "---"
   ]
  },
  {
   "cell_type": "markdown",
   "id": "cd8d7975",
   "metadata": {},
   "source": [
    "# Verzweigungen\n",
    "\n",
    "## Lernziele\n",
    "\n",
    "- Du kennst einfach und mehrfach Verzweigungen\n",
    "- Du weisst die du Verzweigungen für bedingte Ausführungen verwenden kannst\n",
    "- Du kennst den Unterschied zwischen Zuweisen und Vergleichen"
   ]
  },
  {
   "cell_type": "markdown",
   "id": "594dbaf5",
   "metadata": {},
   "source": [
    "## Bedingte Ausführung\n",
    "\n",
    "Mit dem Schlüsselwort `if` kann eine Verzweigung eingeleitet werden. Danach steht eine Bedingung, gefolgt von einem Doppelpunkt `:`. **Beachte, dass der Inhalt der Verzweigung stets eingerückt geschrieben werden muss**. Nur so erkennt Python, dass die unten stehende `print`-Anweisung nicht immer ausgeführt werden soll, sondern nur, wenn die eingegebene Zahl zu gross ist.\n",
    "\n",
    "### Beispiel:"
   ]
  },
  {
   "cell_type": "code",
   "execution_count": null,
   "id": "d9ede52b",
   "metadata": {},
   "outputs": [],
   "source": [
    "print(\"Gib eine Zahl kleiner 10 ein\")\n",
    "zahl = int(input())\n",
    "\n",
    "if zahl >= 10:\n",
    "    print(\"Die Zahl ist zu gross\")"
   ]
  },
  {
   "cell_type": "markdown",
   "id": "3e88f448",
   "metadata": {},
   "source": [
    "### Aufgabe:\n",
    "\n",
    "Schreibe in die nächste Zelle den Code um zu überprüfen ob die eingegebene Zahl **kleiner** als 10 ist"
   ]
  },
  {
   "cell_type": "code",
   "execution_count": null,
   "id": "4b85e89e",
   "metadata": {
    "deletable": false,
    "nbgrader": {
     "cell_type": "code",
     "checksum": "1b8d3a11c0f26b36b481546cc2953528",
     "grade": true,
     "grade_id": "cell-1234fcc5b77c4b86",
     "locked": false,
     "points": 0,
     "schema_version": 3,
     "solution": true,
     "task": false
    }
   },
   "outputs": [],
   "source": [
    "print(\"Gib eine Zahl grösser als 10 ein\")\n",
    "zahl = int(input())\n",
    "\n",
    "# YOUR CODE HERE\n",
    "raise NotImplementedError()"
   ]
  },
  {
   "cell_type": "markdown",
   "id": "05686b40",
   "metadata": {},
   "source": [
    "### Aufgabe:\n",
    "\n",
    "Bei der folgenden Zelle ist beim Kopieren die Einrückung verloren gegangen. Korrgiere die Fehler und überprüfe den Code durch ausführen der Zelle."
   ]
  },
  {
   "cell_type": "code",
   "execution_count": null,
   "id": "d0d7b7a5",
   "metadata": {},
   "outputs": [],
   "source": [
    "print(\"Gib eine Zahl ein\")\n",
    "zahl = int(input())\n",
    "\n",
    "if zahl == 0:\n",
    "print(\"genau Null!\")"
   ]
  },
  {
   "cell_type": "markdown",
   "id": "18e683a0",
   "metadata": {},
   "source": [
    "## 2-fach-Verzweigungen\n",
    "\n",
    "Es ist auch möglich, einen alternativen Weg zu einem `if` anzugeben. Dieser wird mit dem Schlüsselwort `else` eingeleitet. Danach steht keine Bedingung mehr. Der `else`-Block wird immer dann ausgeführt, wenn die Bedingung des `if`-Blocks **nicht** erfüllt ist.\n",
    "\n",
    "### Beispiel:"
   ]
  },
  {
   "cell_type": "code",
   "execution_count": null,
   "id": "a3220de0",
   "metadata": {},
   "outputs": [],
   "source": [
    "wort_1 = \"hallo\"\n",
    "wort_2 = \"welt\"\n",
    "if wort_1 == wort_2:\n",
    "    print(\"Die Wörter sind gleich\")\n",
    "else:\n",
    "    print(\"Die Wörter sind verschieden\")"
   ]
  },
  {
   "cell_type": "markdown",
   "id": "7d703a27",
   "metadata": {},
   "source": [
    "**Wichtig:** Gleichheit testet man mit 2 Gleichheitszeichen, sonst wäre es eine Zuweisung!"
   ]
  },
  {
   "cell_type": "markdown",
   "id": "88b2ba92",
   "metadata": {},
   "source": [
    "### Aufgabe:\n",
    "\n",
    "Arbeite mit einer 2-fach-Verzweigung und gib mittels `print` aus ob die eingegebene Zahl kleiner oder grösser als 10 ist"
   ]
  },
  {
   "cell_type": "code",
   "execution_count": null,
   "id": "2c887205",
   "metadata": {
    "deletable": false,
    "nbgrader": {
     "cell_type": "code",
     "checksum": "dd4bf6a4d11f17e1e8599a074cb19b95",
     "grade": true,
     "grade_id": "cell-ae5436683db49e2f",
     "locked": false,
     "points": 0,
     "schema_version": 3,
     "solution": true,
     "task": false
    }
   },
   "outputs": [],
   "source": [
    "print(\"Gib eine Zahl ein\")\n",
    "zahl = int(input())\n",
    "\n",
    "# YOUR CODE HERE\n",
    "raise NotImplementedError()"
   ]
  },
  {
   "cell_type": "markdown",
   "id": "a8e6b46d",
   "metadata": {},
   "source": [
    "## Mehrfach-Verzweigungen\n",
    "\n",
    "Verzweigungen werden stets mit dem Schlüsselwort `if` eingeleitet. Es dürfen anschliessend beliebig viele `elif`-Blöcke folgen, die alle eine eigene Bedingung erfordern. Am Schluss darf ein einziger `else`-Block stehen. Am Ende jeder `elif`- oder `else`-Zeile steht ein Doppelpunkt. Nachfolgende Zeilen, die nur unter der genannten Bedingung ausgeführt werden, werden eingerückt.\n",
    "\n",
    "### Beispiel:"
   ]
  },
  {
   "cell_type": "code",
   "execution_count": null,
   "id": "6d8ddb0f",
   "metadata": {},
   "outputs": [],
   "source": [
    "a = 40\n",
    "if a < 0:\n",
    "    print(\"negativ\")\n",
    "elif a > 0:\n",
    "    print(\"positiv\")\n",
    "else:\n",
    "    print(\"gleich Null\")"
   ]
  },
  {
   "cell_type": "markdown",
   "id": "8e5ed3de",
   "metadata": {},
   "source": [
    "## Vergleiche\n",
    "\n",
    "In Python können Werte auf folgende Arten verglichen werden:\n",
    "\n",
    "Vergleich | Python\n",
    "--------- | -----\n",
    "gleich | `a == b`\n",
    "nicht gleich | `a != b`\n",
    "kleiner als | `a < b`\n",
    "kleiner als oder gleich | `a <= b`\n",
    "grösser als | `a > b`\n",
    "grösser als oder gleich | `a >= b`\n",
    "\n",
    "###  Gleichheit und Zuweisung\n",
    "\n",
    "Die Gleichheit wird durch zwei aufeinanderfolgende Gleichheitszeichen == geprüft. Ein einzelnes Gleichheitszeichen = wird für die Zuweisung eines Werts an eine Variable verwendet."
   ]
  }
 ],
 "metadata": {
  "kernelspec": {
   "display_name": "Python 3 (ipykernel)",
   "language": "python",
   "name": "python3"
  },
  "language_info": {
   "codemirror_mode": {
    "name": "ipython",
    "version": 3
   },
   "file_extension": ".py",
   "mimetype": "text/x-python",
   "name": "python",
   "nbconvert_exporter": "python",
   "pygments_lexer": "ipython3",
   "version": "3.8.9"
  }
 },
 "nbformat": 4,
 "nbformat_minor": 5
}
