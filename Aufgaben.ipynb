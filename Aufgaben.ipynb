{
 "cells": [
  {
   "cell_type": "markdown",
   "id": "dc5cd66a",
   "metadata": {},
   "source": [
    "Before you turn this problem in, make sure everything runs as expected. First, **restart the kernel** (in the menubar, select Kernel$\\rightarrow$Restart) and then **run all cells** (in the menubar, select Cell$\\rightarrow$Run All).\n",
    "\n",
    "Make sure you fill in any place that says `YOUR CODE HERE` or \"YOUR ANSWER HERE\", as well as your name and collaborators below:"
   ]
  },
  {
   "cell_type": "code",
   "execution_count": null,
   "id": "e30b0881",
   "metadata": {},
   "outputs": [],
   "source": [
    "NAME = \"\"\n",
    "COLLABORATORS = \"\""
   ]
  },
  {
   "cell_type": "markdown",
   "id": "cdc4168c",
   "metadata": {},
   "source": [
    "---"
   ]
  },
  {
   "cell_type": "markdown",
   "id": "3ac20306",
   "metadata": {},
   "source": [
    "# Aufgabe\n",
    "\n",
    "Schreibe in die nächste Zelle den Code um:\n",
    "\n",
    "- Frage nach dem Passwort.\n",
    "- Speichere das eingegebene Passwort in einer Variable.\n",
    "- Gib das gespeicherte Passwort wieder aus."
   ]
  },
  {
   "cell_type": "code",
   "execution_count": null,
   "id": "f536b333",
   "metadata": {
    "deletable": false,
    "nbgrader": {
     "cell_type": "code",
     "checksum": "d8e6c68734bdd594216fe48bb8809bf3",
     "grade": true,
     "grade_id": "cell-2bd91536256f5ab0",
     "locked": false,
     "points": 0,
     "schema_version": 3,
     "solution": true,
     "task": false
    }
   },
   "outputs": [],
   "source": [
    "# YOUR CODE HERE\n",
    "raise NotImplementedError()"
   ]
  },
  {
   "cell_type": "markdown",
   "id": "32ebc9a7",
   "metadata": {},
   "source": [
    "# Aufgabe\n",
    "\n",
    "Speichere zuerst ein geheimes Passwort. Führe nach der Passwortabfrage eine Verzweigung hinzu, so dass sofort eine der beiden folgenden Ausgaben erfolgt:\n",
    "\n",
    "«Zugriff erlaubt», falls die Passwörter übereinstimmen.\n",
    "«Zugriff verweigert», falls das eingegebene Passwort falsch ist."
   ]
  },
  {
   "cell_type": "code",
   "execution_count": null,
   "id": "236c0bfb",
   "metadata": {
    "deletable": false,
    "nbgrader": {
     "cell_type": "code",
     "checksum": "5dd8ce6a33cfceb39007677598174b7d",
     "grade": true,
     "grade_id": "cell-3a5860ff42b3aa5b",
     "locked": false,
     "points": 0,
     "schema_version": 3,
     "solution": true,
     "task": false
    }
   },
   "outputs": [],
   "source": [
    "geheimes_passwort = \"Hall0 Welt\"\n",
    "# YOUR CODE HERE\n",
    "raise NotImplementedError()"
   ]
  }
 ],
 "metadata": {
  "kernelspec": {
   "display_name": "Python 3 (ipykernel)",
   "language": "python",
   "name": "python3"
  },
  "language_info": {
   "codemirror_mode": {
    "name": "ipython",
    "version": 3
   },
   "file_extension": ".py",
   "mimetype": "text/x-python",
   "name": "python",
   "nbconvert_exporter": "python",
   "pygments_lexer": "ipython3",
   "version": "3.8.9"
  }
 },
 "nbformat": 4,
 "nbformat_minor": 5
}
